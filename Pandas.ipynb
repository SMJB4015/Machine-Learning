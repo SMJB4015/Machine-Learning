{
  "nbformat": 4,
  "nbformat_minor": 0,
  "metadata": {
    "colab": {
      "name": "Pandas.ipynb",
      "provenance": [],
      "collapsed_sections": [],
      "authorship_tag": "ABX9TyNYJUW6+4zsm4Qs9odgR0Ov",
      "include_colab_link": true
    },
    "kernelspec": {
      "name": "python3",
      "display_name": "Python 3"
    },
    "language_info": {
      "name": "python"
    }
  },
  "cells": [
    {
      "cell_type": "markdown",
      "metadata": {
        "id": "view-in-github",
        "colab_type": "text"
      },
      "source": [
        "<a href=\"https://colab.research.google.com/github/SMJB4015/Machine-Learning/blob/main/Pandas.ipynb\" target=\"_parent\"><img src=\"https://colab.research.google.com/assets/colab-badge.svg\" alt=\"Open In Colab\"/></a>"
      ]
    },
    {
      "cell_type": "code",
      "execution_count": 13,
      "metadata": {
        "id": "te0jtc67vj_y",
        "colab": {
          "base_uri": "https://localhost:8080/"
        },
        "outputId": "add082e0-7266-41ed-da73-6738483736d3"
      },
      "outputs": [
        {
          "output_type": "stream",
          "name": "stdout",
          "text": [
            "Drive already mounted at /content/drive; to attempt to forcibly remount, call drive.mount(\"/content/drive\", force_remount=True).\n",
            "Pandas.ipynb  pokemon_data.csv\n",
            "       #                   Name   Type 1  Type 2  HP  Attack  Defense  \\\n",
            "0      1              Bulbasaur    Grass  Poison  45      49       49   \n",
            "1      2                Ivysaur    Grass  Poison  60      62       63   \n",
            "2      3               Venusaur    Grass  Poison  80      82       83   \n",
            "3      3  VenusaurMega Venusaur    Grass  Poison  80     100      123   \n",
            "4      4             Charmander     Fire     NaN  39      52       43   \n",
            "..   ...                    ...      ...     ...  ..     ...      ...   \n",
            "795  719                Diancie     Rock   Fairy  50     100      150   \n",
            "796  719    DiancieMega Diancie     Rock   Fairy  50     160      110   \n",
            "797  720    HoopaHoopa Confined  Psychic   Ghost  80     110       60   \n",
            "798  720     HoopaHoopa Unbound  Psychic    Dark  80     160       60   \n",
            "799  721              Volcanion     Fire   Water  80     110      120   \n",
            "\n",
            "     Sp. Atk  Sp. Def  Speed  Generation  Legendary  \n",
            "0         65       65     45           1      False  \n",
            "1         80       80     60           1      False  \n",
            "2        100      100     80           1      False  \n",
            "3        122      120     80           1      False  \n",
            "4         60       50     65           1      False  \n",
            "..       ...      ...    ...         ...        ...  \n",
            "795      100      150     50           6       True  \n",
            "796      160      110    110           6       True  \n",
            "797      150      130     70           6       True  \n",
            "798      170      130     80           6       True  \n",
            "799      130       90     70           6       True  \n",
            "\n",
            "[800 rows x 12 columns]\n"
          ]
        }
      ],
      "source": [
        "import pandas as pd\n",
        "from google.colab import drive\n",
        "drive.mount('/content/drive')\n",
        "import os\n",
        "os.chdir(\"/content/drive/MyDrive/ML/Pandas\")\n",
        "!ls\n",
        "df = pd.read_csv('pokemon_data.csv')\n",
        "print(df)"
      ]
    }
  ]
}